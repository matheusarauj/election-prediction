{
 "cells": [
  {
   "cell_type": "markdown",
   "metadata": {
    "colab_type": "text",
    "id": "73Vv6gELm7w8"
   },
   "source": [
    "# Usando Regressão Logística, Árvores de Decisão e Boosting para predição da eleição de deputados"
   ]
  },
  {
   "cell_type": "markdown",
   "metadata": {
    "colab_type": "text",
    "id": "8vSnu8dap4Wi"
   },
   "source": [
    "* Imports gerais\n",
    "* Modelos\n",
    "* Métricas de avaliação"
   ]
  },
  {
   "cell_type": "code",
   "execution_count": 1,
   "metadata": {
    "colab": {},
    "colab_type": "code",
    "id": "seLneAQn_z2A"
   },
   "outputs": [],
   "source": [
    "%%capture\n",
    "!pip install imblearn scipy sklearn numpy"
   ]
  },
  {
   "cell_type": "code",
   "execution_count": 2,
   "metadata": {
    "colab": {},
    "colab_type": "code",
    "id": "HPSkqiGlm4aX"
   },
   "outputs": [],
   "source": [
    "%%capture\n",
    "# coding: utf-8\n",
    "import pandas as pd\n",
    "import numpy as np\n",
    "import itertools\n",
    "from matplotlib import pyplot as plt\n",
    "from scipy.stats import normaltest\n",
    "from sklearn.utils import as_float_array\n",
    "from sklearn.preprocessing import scale, MinMaxScaler\n",
    "\n",
    "try:\n",
    "  from google.colab import files, drive\n",
    "  drive.mount('/content/drive')\n",
    "except:\n",
    "  pass"
   ]
  },
  {
   "cell_type": "code",
   "execution_count": 3,
   "metadata": {
    "colab": {},
    "colab_type": "code",
    "id": "6ptix76gn32i"
   },
   "outputs": [],
   "source": [
    "%%capture\n",
    "from imblearn.over_sampling import RandomOverSampler as ROS\n",
    "from sklearn.model_selection import GridSearchCV, cross_validate, train_test_split\n",
    "from sklearn.tree import DecisionTreeClassifier as DTC\n",
    "from sklearn.linear_model import LogisticRegression as LogReg\n",
    "from sklearn.svm import LinearSVC as LSVC\n",
    "from sklearn.ensemble import AdaBoostClassifier, GradientBoostingClassifier\n",
    "from sklearn.neighbors import KNeighborsClassifier as KNN"
   ]
  },
  {
   "cell_type": "code",
   "execution_count": 4,
   "metadata": {
    "colab": {},
    "colab_type": "code",
    "id": "sA0Rdt4Qo3V5"
   },
   "outputs": [],
   "source": [
    "%%capture\n",
    "from sklearn.metrics import accuracy_score, auc, confusion_matrix\n",
    "from sklearn.metrics import precision_score, recall_score, f1_score\n",
    "from sklearn.model_selection import learning_curve, ShuffleSplit"
   ]
  },
  {
   "cell_type": "markdown",
   "metadata": {
    "colab_type": "text",
    "id": "rVn2I8TRiWCb"
   },
   "source": [
    "## Classes auxiliares\n",
    "\n",
    "Além dos imports feitos, farei também alguns que me auxiliarão a plotar os resultados  das métricas de cada classificador."
   ]
  },
  {
   "cell_type": "code",
   "execution_count": 5,
   "metadata": {
    "colab": {},
    "colab_type": "code",
    "id": "H3mxAGiaivL6"
   },
   "outputs": [],
   "source": [
    "class MetricScores():\n",
    "  def __init__(self, y_teste):\n",
    "    self.y_teste = y_teste\n",
    "    self.reset_df()\n",
    "    \n",
    "  def reset_df(self):\n",
    "    colunas = [\"Classifier\", \"Precision\", \"Recall\", \"Accuracy\", \"F-Score\"]\n",
    "    dic = dict((k, []) for k in colunas)\n",
    "    self.metric_df = pd.DataFrame(dic)\n",
    "    \n",
    "  def get_df(self):\n",
    "    return self.metric_df\n",
    "    \n",
    "  def insert_prediction(self, classifier, predicao):\n",
    "    precision = precision_score(self.y_teste, predicao)\n",
    "    recall = recall_score(self.y_teste, predicao)\n",
    "    accuracy = accuracy_score(self.y_teste, predicao)\n",
    "    fscore = f1_score(self.y_teste, predicao)\n",
    "    \n",
    "    new_row = {\n",
    "        \"Accuracy\": accuracy, \"Classifier\": classifier,\n",
    "        \"F-Score\": fscore, \"Precision\": precision, \"Recall\": recall\n",
    "    }\n",
    "    \n",
    "    self.metric_df.loc[1 + self.metric_df.shape[0]] = new_row"
   ]
  },
  {
   "cell_type": "markdown",
   "metadata": {
    "colab_type": "text",
    "id": "a40fhhqirYS2"
   },
   "source": [
    "## Import dos dados\n",
    "\n",
    "Tentamos importar os dados a partir do Google Drive, já que está sendo feito no Google Colaboratory. Caso não seja possível, importa-se os dados a partir da pasta local."
   ]
  },
  {
   "cell_type": "code",
   "execution_count": 6,
   "metadata": {
    "colab": {},
    "colab_type": "code",
    "id": "4rsc-kg9rab9"
   },
   "outputs": [],
   "source": [
    "try:\n",
    "  drv = 'drive/My Drive/CDP/'\n",
    "  treino = pd.read_csv(drv + 'train_cat.csv')\n",
    "  teste = pd.read_csv(drv + 'test_cat.csv')\n",
    "except:\n",
    "  parent = '../datasets/'\n",
    "  treino = pd.read_csv(parent + 'train.csv')\n",
    "  teste = pd.read_csv(parent + 'test.csv')"
   ]
  },
  {
   "cell_type": "markdown",
   "metadata": {
    "colab_type": "text",
    "id": "xPl_FICqrPM5"
   },
   "source": [
    "## Análise dos dados\n",
    "Como analisaremos os dados de treino, é necessário criar funções que sejam reutilizáveis, para permitir que o mesmo procedimento seja realizado em novas etapas do código. Inicialmente, analisaremos a distribuição das variáveis numéricas com a função `analisa_numericas`, aplicando a normalização nos casos necessários, vistos posteriormente.\n",
    "\n",
    "Além dos gráficos, será feita uma verificação matemática para gerar um array no qual serão definidas as variáveis que devem ser normalizadas nos dados de treino e de teste: \n",
    "considera-se a hipótese de que o array segue uma distribuição normal e define-se um limite `alpha=0.0001` ; caso o resultado do teste de normalidade for menor que alpha, a hipótese de seguir a distribuição normal é rejeitada, isto é, os dados não seguem uma distribuição normal."
   ]
  },
  {
   "cell_type": "code",
   "execution_count": 7,
   "metadata": {
    "colab": {},
    "colab_type": "code",
    "id": "J43rXrS9mCEo"
   },
   "outputs": [],
   "source": [
    "# @hidden_cell\n",
    "def plot_learning_curve(estimator, title, X, y, ylim=None, cv=None,\n",
    "                        n_jobs=None, train_sizes=np.linspace(.1, 1.0, 5)):\n",
    "    # Função importada dos exemplos do SKLearn\n",
    "    plt.figure()\n",
    "    plt.title(title)\n",
    "    if ylim is not None:\n",
    "        plt.ylim(*ylim)\n",
    "    plt.xlabel(u\"Training examples\")\n",
    "    plt.ylabel(u\"Score\")\n",
    "    train_sizes, train_scores, test_scores = learning_curve(\n",
    "        estimator, X, y, cv=cv, n_jobs=n_jobs, train_sizes=train_sizes)\n",
    "    train_scores_mean = np.mean(train_scores, axis=1)\n",
    "    train_scores_std = np.std(train_scores, axis=1)\n",
    "    test_scores_mean = np.mean(test_scores, axis=1)\n",
    "    test_scores_std = np.std(test_scores, axis=1)\n",
    "    plt.grid()\n",
    "\n",
    "    plt.fill_between(train_sizes, train_scores_mean - train_scores_std,\n",
    "                     train_scores_mean + train_scores_std, alpha=0.1,\n",
    "                     color=\"r\")\n",
    "    plt.fill_between(train_sizes, test_scores_mean - test_scores_std,\n",
    "                     test_scores_mean + test_scores_std, alpha=0.1, color=\"g\")\n",
    "    plt.plot(train_sizes, train_scores_mean, 'o-', color=\"r\",\n",
    "             label=u\"Training score\")\n",
    "    plt.plot(train_sizes, test_scores_mean, 'o-', color=\"g\",\n",
    "             label=u\"Cross-validation score\")\n",
    "\n",
    "    plt.legend(loc=\"best\")\n",
    "    return plt"
   ]
  },
  {
   "cell_type": "code",
   "execution_count": 8,
   "metadata": {
    "colab": {},
    "colab_type": "code",
    "id": "n5eDbjCU8i6g"
   },
   "outputs": [],
   "source": [
    "# @hidden_cell\n",
    "def plot_confusion_matrix(cm, classes, normalize=False, title='Confusion matrix',\n",
    "                          cmap=plt.cm.Blues):\n",
    "    # Função importada dos exemplos do SKLearn\n",
    "    if normalize:\n",
    "        cm = cm.astype('float') / cm.sum(axis=1)[:, np.newaxis]\n",
    "\n",
    "    plt.imshow(cm, interpolation='nearest', cmap=cmap)\n",
    "    plt.title(title)\n",
    "    plt.colorbar()\n",
    "    tick_marks = np.arange(len(classes))\n",
    "    plt.xticks(tick_marks, classes, rotation=45)\n",
    "    plt.yticks(tick_marks, classes)\n",
    "\n",
    "    fmt = '.2f' if normalize else 'd'\n",
    "    thresh = cm.max() / 2.\n",
    "    for i, j in itertools.product(range(cm.shape[0]), range(cm.shape[1])):\n",
    "        plt.text(j, i, format(cm[i, j], fmt),\n",
    "                 horizontalalignment=\"center\",\n",
    "                 color=\"white\" if cm[i, j] > thresh else \"black\")\n",
    "\n",
    "    plt.ylabel(u'True label')\n",
    "    plt.xlabel(u'Predicted label')\n",
    "    plt.tight_layout()"
   ]
  },
  {
   "cell_type": "code",
   "execution_count": 9,
   "metadata": {
    "colab": {
     "base_uri": "https://localhost:8080/",
     "height": 1368
    },
    "colab_type": "code",
    "id": "7oQja0xFrSui",
    "outputId": "1055714f-7711-40fb-ad62-7f666224718c"
   },
   "outputs": [
    {
     "data": {
      "image/png": "[encoded data removed]",
      "text/plain": [
       "<Figure size 1152x1728 with 13 Axes>"
      ]
     },
     "metadata": {
      "needs_background": "light"
     },
     "output_type": "display_data"
    }
   ],
   "source": [
    "def is_numerico(coluna):\n",
    "  valor = coluna.ravel()[0]\n",
    "  numericos = [np.float64, np.float32, np.int64]\n",
    "  for n in numericos:\n",
    "    if isinstance(valor, n):\n",
    "      return True\n",
    "  return False\n",
    "  \n",
    "  \n",
    "def analisa_numericas(df):\n",
    "  plt.figure(figsize=(16,24))\n",
    "  plt.title('Análise das variáveis')\n",
    "\n",
    "  col_numericas = []\n",
    "  col_nao_normais = []\n",
    "  alpha = 1e-3\n",
    "  \n",
    "  for coluna in list(df):\n",
    "    if is_numerico(df[coluna]) and coluna != \"ano\" and coluna != \"sequencial_candidato\":\n",
    "      col_numericas.append(coluna)\n",
    "      if normaltest(df[coluna])[1] < alpha:\n",
    "        col_nao_normais.append(coluna)\n",
    "        \n",
    "  for i in range(len(col_numericas)):\n",
    "    coluna = col_numericas[i]\n",
    "    plt.subplot(round(len(col_numericas)/2.0)+1, 2, i+1)\n",
    "    plt.title(coluna)\n",
    "    df[coluna].hist()\n",
    "  plt.show()\n",
    "  \n",
    "  return col_nao_normais\n",
    "  \n",
    "colunas = analisa_numericas(treino)"
   ]
  },
  {
   "cell_type": "markdown",
   "metadata": {
    "colab_type": "text",
    "id": "knxSxjoHHFuv"
   },
   "source": [
    "## Manipulação dos Dados"
   ]
  },
  {
   "cell_type": "markdown",
   "metadata": {
    "colab_type": "text",
    "id": "YjNARp1lzKkH"
   },
   "source": [
    "A partir da análise dos gráficos acima, podemos identificar as colunas numéricas que possuem seus dados normalizados, e por isso criaremos a função `normaliza_dados`,  que normaliza todas as colunas recebidas e, ao fim, repete a análise gráfica feita acima."
   ]
  },
  {
   "cell_type": "code",
   "execution_count": 10,
   "metadata": {
    "colab": {
     "base_uri": "https://localhost:8080/",
     "height": 1368
    },
    "colab_type": "code",
    "id": "6-JC4jmhK5AJ",
    "outputId": "2321b5ce-d93b-4128-d038-5f61d7d52a96"
   },
   "outputs": [
    {
     "data": {
      "image/png": "[encoded data removed]",
      "text/plain": [
       "<Figure size 1152x1728 with 13 Axes>"
      ]
     },
     "metadata": {
      "needs_background": "light"
     },
     "output_type": "display_data"
    }
   ],
   "source": [
    "def normaliza_dados(df, colunas, analisa=True):\n",
    "  for col in colunas:\n",
    "    temp = df[col][:].apply(np.log).values\n",
    "    temp[temp == np.inf] = 0\n",
    "    temp[temp == -np.inf] = 0\n",
    "    temp[temp == np.nan] = 0\n",
    "    df[col] = temp\n",
    "  if (analisa):\n",
    "    analisa_numericas(df)\n",
    "    \n",
    "  return df\n",
    "\n",
    "treino = normaliza_dados(treino, colunas)\n",
    "teste = normaliza_dados(teste, colunas, analisa = False)"
   ]
  },
  {
   "cell_type": "markdown",
   "metadata": {
    "colab_type": "text",
    "id": "3Ot_frHMDytz"
   },
   "source": [
    "Assim como no lab anterior, iremos descartar a coluna com os nomes dos deputados por não fazer sentido que o nome beneficie ou prejudique a eleição de um deputado."
   ]
  },
  {
   "cell_type": "code",
   "execution_count": 11,
   "metadata": {
    "colab": {},
    "colab_type": "code",
    "id": "evo1lWvd5Edc"
   },
   "outputs": [],
   "source": [
    "try:\n",
    "  treino = treino.drop('ocupacao', axis=1)\n",
    "  teste = teste.drop('ocupacao', axis=1)\n",
    "  treino = treino.drop('nome', axis=1)\n",
    "  teste = teste.drop('nome', axis=1)\n",
    "except:\n",
    "  pass"
   ]
  },
  {
   "cell_type": "markdown",
   "metadata": {
    "colab_type": "text",
    "id": "i8r_36ukDLRJ"
   },
   "source": [
    "Em seguida, transformamos todas as colunas de fatores em variáveis dummy"
   ]
  },
  {
   "cell_type": "code",
   "execution_count": 12,
   "metadata": {
    "colab": {},
    "colab_type": "code",
    "id": "fZxnxL1aDWqE"
   },
   "outputs": [],
   "source": [
    "def transforma_fatores(df):\n",
    "  fatores = ['ano', 'uf', 'partido', 'cargo', 'sexo', 'estado_civil']\n",
    "  for fator in fatores:\n",
    "    df = pd.concat([df, pd.get_dummies(df[fator])], axis=1)\n",
    "    df = df.drop(fator, axis=1)\n",
    "  return df\n",
    "\n",
    "treino = transforma_fatores(treino)\n",
    "teste = transforma_fatores(teste)"
   ]
  },
  {
   "cell_type": "markdown",
   "metadata": {
    "colab_type": "text",
    "id": "mhFjy80jGYWI"
   },
   "source": [
    "Como a escolaridade é um fator que, quanto maior, mais impacto, a codificamos de uma forma diferente, seguindo a função abaixo."
   ]
  },
  {
   "cell_type": "code",
   "execution_count": 13,
   "metadata": {
    "colab": {},
    "colab_type": "code",
    "id": "8gRGHH2dGfi7"
   },
   "outputs": [],
   "source": [
    "def codifica(df, col_nome, mapa):\n",
    "  nova_coluna = []\n",
    "\n",
    "  for i, row in df.iterrows():\n",
    "    nova_coluna.append(mapa[row[col_nome]])\n",
    "\n",
    "  df[col_nome] = nova_coluna\n",
    "  return df\n",
    "\n",
    "def codifica_escolaridade(df):\n",
    "  niv_escolaridade = {'LÊ E ESCREVE': 0, 'ENSINO FUNDAMENTAL INCOMPLETO': 1,\n",
    "                      'ENSINO FUNDAMENTAL COMPLETO': 2,\n",
    "                      'ENSINO MÉDIO INCOMPLETO': 3, 'ENSINO MÉDIO COMPLETO': 4,\n",
    "                      'SUPERIOR INCOMPLETO': 5, 'SUPERIOR COMPLETO': 6 }\n",
    "  return codifica(df, 'grau', niv_escolaridade)\n",
    "\n",
    "def codifica_situacao(df):\n",
    "  situacao = { 'eleito': 1, 'nao_eleito': 0 }\n",
    "  return codifica(df, 'situacao', situacao)\n",
    "\n",
    "treino = codifica_situacao(codifica_escolaridade(treino))\n",
    "teste = codifica_escolaridade(teste)"
   ]
  },
  {
   "cell_type": "markdown",
   "metadata": {
    "colab_type": "text",
    "id": "WelJdS2shNX9"
   },
   "source": [
    "### Padronização\n",
    "\n",
    "Antes de iniciar o treino, é necessário padronizar os dados entre o conjunto de treino e de testes:"
   ]
  },
  {
   "cell_type": "code",
   "execution_count": 14,
   "metadata": {
    "colab": {},
    "colab_type": "code",
    "id": "Fm6kTHbIhWCL"
   },
   "outputs": [],
   "source": [
    "def append_dummy_zeros(dataframe, nome_coluna):\n",
    "  dataframe[nome_coluna] = pd.Series([0 for i in range(len(dataframe))])\n",
    "  return dataframe\n",
    "\n",
    "for key in teste.keys():\n",
    "  try:\n",
    "    treino[key]\n",
    "  except:\n",
    "    treino = append_dummy_zeros(treino, key)\n",
    "\n",
    "for key in treino.keys():\n",
    "  try:\n",
    "    teste[key]\n",
    "  except:\n",
    "    if (key != 'votos'):\n",
    "      teste = append_dummy_zeros(teste, key)"
   ]
  },
  {
   "cell_type": "markdown",
   "metadata": {
    "colab_type": "text",
    "id": "lfU7CNwqHUYW"
   },
   "source": [
    "## Treinando os modelos"
   ]
  },
  {
   "cell_type": "markdown",
   "metadata": {
    "colab_type": "text",
    "id": "g2qzu71Vh-ln"
   },
   "source": [
    "Para o treino das árvores, fazemos um hold-out 70/30 para dividir o conjunto de dados entre treino e teste, possibilitando a identificação dos melhores hiper-parâmetros."
   ]
  },
  {
   "cell_type": "code",
   "execution_count": 15,
   "metadata": {
    "colab": {
     "base_uri": "https://localhost:8080/",
     "height": 270
    },
    "colab_type": "code",
    "id": "dWubA1Fo1NzY",
    "outputId": "3dc17e87-79ad-4ed7-955b-8f0acd98dc58"
   },
   "outputs": [
    {
     "data": {
      "text/html": [
       "<div>\n",
       "<style scoped>\n",
       "    .dataframe tbody tr th:only-of-type {\n",
       "        vertical-align: middle;\n",
       "    }\n",
       "\n",
       "    .dataframe tbody tr th {\n",
       "        vertical-align: top;\n",
       "    }\n",
       "\n",
       "    .dataframe thead th {\n",
       "        text-align: right;\n",
       "    }\n",
       "</style>\n",
       "<table border=\"1\" class=\"dataframe\">\n",
       "  <thead>\n",
       "    <tr style=\"text-align: right;\">\n",
       "      <th></th>\n",
       "      <th>sequencial_candidato</th>\n",
       "      <th>quantidade_doacoes</th>\n",
       "      <th>quantidade_doadores</th>\n",
       "      <th>total_receita</th>\n",
       "      <th>media_receita</th>\n",
       "      <th>recursos_de_outros_candidatos.comites</th>\n",
       "      <th>recursos_de_pessoas_fisicas</th>\n",
       "      <th>recursos_de_pessoas_juridicas</th>\n",
       "      <th>recursos_proprios</th>\n",
       "      <th>recursos_de_partido_politico</th>\n",
       "      <th>...</th>\n",
       "      <th>PV</th>\n",
       "      <th>DEPUTADO FEDERAL</th>\n",
       "      <th>FEMININO</th>\n",
       "      <th>MASCULINO</th>\n",
       "      <th>CASADO(A)</th>\n",
       "      <th>DIVORCIADO(A)</th>\n",
       "      <th>SEPARADO(A) JUDICIALMENTE</th>\n",
       "      <th>SOLTEIRO(A)</th>\n",
       "      <th>VIÚVO(A)</th>\n",
       "      <th>2014</th>\n",
       "    </tr>\n",
       "  </thead>\n",
       "  <tbody>\n",
       "    <tr>\n",
       "      <th>0</th>\n",
       "      <td>10001</td>\n",
       "      <td>1.791759</td>\n",
       "      <td>1.791759</td>\n",
       "      <td>9.717158</td>\n",
       "      <td>7.925400</td>\n",
       "      <td>0.000000</td>\n",
       "      <td>9.104980</td>\n",
       "      <td>8.748305</td>\n",
       "      <td>7.170120</td>\n",
       "      <td>0.0</td>\n",
       "      <td>...</td>\n",
       "      <td>0</td>\n",
       "      <td>1</td>\n",
       "      <td>0</td>\n",
       "      <td>1</td>\n",
       "      <td>1</td>\n",
       "      <td>0</td>\n",
       "      <td>0</td>\n",
       "      <td>0</td>\n",
       "      <td>0</td>\n",
       "      <td>0</td>\n",
       "    </tr>\n",
       "    <tr>\n",
       "      <th>1</th>\n",
       "      <td>10002</td>\n",
       "      <td>2.564949</td>\n",
       "      <td>2.564949</td>\n",
       "      <td>10.035656</td>\n",
       "      <td>7.470708</td>\n",
       "      <td>8.798606</td>\n",
       "      <td>9.615805</td>\n",
       "      <td>6.907755</td>\n",
       "      <td>5.303305</td>\n",
       "      <td>0.0</td>\n",
       "      <td>...</td>\n",
       "      <td>0</td>\n",
       "      <td>1</td>\n",
       "      <td>1</td>\n",
       "      <td>0</td>\n",
       "      <td>0</td>\n",
       "      <td>0</td>\n",
       "      <td>0</td>\n",
       "      <td>1</td>\n",
       "      <td>0</td>\n",
       "      <td>0</td>\n",
       "    </tr>\n",
       "    <tr>\n",
       "      <th>2</th>\n",
       "      <td>10002</td>\n",
       "      <td>2.833213</td>\n",
       "      <td>2.772589</td>\n",
       "      <td>11.971115</td>\n",
       "      <td>9.137901</td>\n",
       "      <td>7.718685</td>\n",
       "      <td>10.438518</td>\n",
       "      <td>11.038445</td>\n",
       "      <td>10.993732</td>\n",
       "      <td>0.0</td>\n",
       "      <td>...</td>\n",
       "      <td>0</td>\n",
       "      <td>1</td>\n",
       "      <td>1</td>\n",
       "      <td>0</td>\n",
       "      <td>0</td>\n",
       "      <td>0</td>\n",
       "      <td>0</td>\n",
       "      <td>0</td>\n",
       "      <td>1</td>\n",
       "      <td>0</td>\n",
       "    </tr>\n",
       "    <tr>\n",
       "      <th>3</th>\n",
       "      <td>10002</td>\n",
       "      <td>1.791759</td>\n",
       "      <td>1.791759</td>\n",
       "      <td>8.006741</td>\n",
       "      <td>6.214988</td>\n",
       "      <td>0.000000</td>\n",
       "      <td>7.047517</td>\n",
       "      <td>7.004083</td>\n",
       "      <td>6.620073</td>\n",
       "      <td>0.0</td>\n",
       "      <td>...</td>\n",
       "      <td>0</td>\n",
       "      <td>1</td>\n",
       "      <td>0</td>\n",
       "      <td>1</td>\n",
       "      <td>1</td>\n",
       "      <td>0</td>\n",
       "      <td>0</td>\n",
       "      <td>0</td>\n",
       "      <td>0</td>\n",
       "      <td>0</td>\n",
       "    </tr>\n",
       "    <tr>\n",
       "      <th>4</th>\n",
       "      <td>10003</td>\n",
       "      <td>3.871201</td>\n",
       "      <td>3.871201</td>\n",
       "      <td>11.693746</td>\n",
       "      <td>7.822545</td>\n",
       "      <td>0.000000</td>\n",
       "      <td>10.837186</td>\n",
       "      <td>0.000000</td>\n",
       "      <td>11.141021</td>\n",
       "      <td>0.0</td>\n",
       "      <td>...</td>\n",
       "      <td>0</td>\n",
       "      <td>1</td>\n",
       "      <td>0</td>\n",
       "      <td>1</td>\n",
       "      <td>1</td>\n",
       "      <td>0</td>\n",
       "      <td>0</td>\n",
       "      <td>0</td>\n",
       "      <td>0</td>\n",
       "      <td>0</td>\n",
       "    </tr>\n",
       "  </tbody>\n",
       "</table>\n",
       "<p>5 rows × 85 columns</p>\n",
       "</div>"
      ],
      "text/plain": [
       "   sequencial_candidato  quantidade_doacoes  quantidade_doadores  \\\n",
       "0                 10001            1.791759             1.791759   \n",
       "1                 10002            2.564949             2.564949   \n",
       "2                 10002            2.833213             2.772589   \n",
       "3                 10002            1.791759             1.791759   \n",
       "4                 10003            3.871201             3.871201   \n",
       "\n",
       "   total_receita  media_receita  recursos_de_outros_candidatos.comites  \\\n",
       "0       9.717158       7.925400                               0.000000   \n",
       "1      10.035656       7.470708                               8.798606   \n",
       "2      11.971115       9.137901                               7.718685   \n",
       "3       8.006741       6.214988                               0.000000   \n",
       "4      11.693746       7.822545                               0.000000   \n",
       "\n",
       "   recursos_de_pessoas_fisicas  recursos_de_pessoas_juridicas  \\\n",
       "0                     9.104980                       8.748305   \n",
       "1                     9.615805                       6.907755   \n",
       "2                    10.438518                      11.038445   \n",
       "3                     7.047517                       7.004083   \n",
       "4                    10.837186                       0.000000   \n",
       "\n",
       "   recursos_proprios  recursos_de_partido_politico  ...   PV  \\\n",
       "0           7.170120                           0.0  ...    0   \n",
       "1           5.303305                           0.0  ...    0   \n",
       "2          10.993732                           0.0  ...    0   \n",
       "3           6.620073                           0.0  ...    0   \n",
       "4          11.141021                           0.0  ...    0   \n",
       "\n",
       "   DEPUTADO FEDERAL  FEMININO  MASCULINO  CASADO(A)  DIVORCIADO(A)  \\\n",
       "0                 1         0          1          1              0   \n",
       "1                 1         1          0          0              0   \n",
       "2                 1         1          0          0              0   \n",
       "3                 1         0          1          1              0   \n",
       "4                 1         0          1          1              0   \n",
       "\n",
       "   SEPARADO(A) JUDICIALMENTE  SOLTEIRO(A)  VIÚVO(A)  2014  \n",
       "0                          0            0         0     0  \n",
       "1                          0            1         0     0  \n",
       "2                          0            0         1     0  \n",
       "3                          0            0         0     0  \n",
       "4                          0            0         0     0  \n",
       "\n",
       "[5 rows x 85 columns]"
      ]
     },
     "execution_count": 15,
     "metadata": {},
     "output_type": "execute_result"
    }
   ],
   "source": [
    "treino.head()"
   ]
  },
  {
   "cell_type": "code",
   "execution_count": 16,
   "metadata": {
    "colab": {},
    "colab_type": "code",
    "id": "Kw2EAZxodKNk"
   },
   "outputs": [],
   "source": [
    "x, y = treino.drop('situacao', axis=1), treino['situacao']"
   ]
  },
  {
   "cell_type": "markdown",
   "metadata": {
    "colab_type": "text",
    "id": "gwWCigXP97tv"
   },
   "source": [
    "Inicialmente, como pede na questão 1 do exercício, precisamos verificar se existe desbalanceamento nos dados:\n",
    "\n",
    "1. Há desbalanceamento das classes (isto é, uma classe tem muito mais instâncias que outra)? Em que proporção? Quais efeitos colaterais o desbalanceamento de classes pode causar no classificador? Como você poderia tratar isso? (10 pt.)\n",
    "\n",
    "Para verificar se existe ou não desbalanceamento, verificaremos o plot da coluna y dos dados de treino:"
   ]
  },
  {
   "cell_type": "code",
   "execution_count": 17,
   "metadata": {
    "colab": {
     "base_uri": "https://localhost:8080/",
     "height": 364
    },
    "colab_type": "code",
    "id": "egvg3-f_-Yew",
    "outputId": "c6d3a791-f177-42a4-fedb-613d6c2ecc77"
   },
   "outputs": [
    {
     "data": {
      "text/plain": [
       "<matplotlib.axes._subplots.AxesSubplot at 0x10ffd5190>"
      ]
     },
     "execution_count": 17,
     "metadata": {},
     "output_type": "execute_result"
    },
    {
     "data": {
      "image/png": "[encoded data removed]",
      "text/plain": [
       "<Figure size 432x288 with 1 Axes>"
      ]
     },
     "metadata": {
      "needs_background": "light"
     },
     "output_type": "display_data"
    }
   ],
   "source": [
    "y.hist()"
   ]
  },
  {
   "cell_type": "markdown",
   "metadata": {
    "colab_type": "text",
    "id": "Tgo90z0--l-5"
   },
   "source": [
    "Como é possível ver no gráfico acima, existe muito mais dados de deputados não eleitos do que de deputados eleitos. Para tratar esse problema existem duas possíveis técnicas: _undersampling_ e _oversampling_. O _undersampling_ consiste em reduzir a quantidade de amostras da categoria mais frequente à ponto de ambas categorias ficarem com quantidade similar. O _oversampling_ faz justamente o contrário: seleciona amostras aleatórias dos dados que tem menor frequência e adiciona duplicatas nos dados, tentando igualar a frequência das classes.\n",
    "\n",
    "Como retirar dados parece ser pior do que adicionar novos dados, a estratégia que eu escolhi é o oversampling:"
   ]
  },
  {
   "cell_type": "code",
   "execution_count": 18,
   "metadata": {
    "colab": {
     "base_uri": "https://localhost:8080/",
     "height": 415
    },
    "colab_type": "code",
    "id": "P6eED4oXAPL5",
    "outputId": "c9ca0410-f397-4444-f1d9-72f2b43279a5"
   },
   "outputs": [
    {
     "data": {
      "text/plain": [
       "(array([6596.,    0.,    0.,    0.,    0.,    0.,    0.,    0.,    0.,\n",
       "        6596.]),\n",
       " array([0. , 0.1, 0.2, 0.3, 0.4, 0.5, 0.6, 0.7, 0.8, 0.9, 1. ]),\n",
       " <a list of 10 Patch objects>)"
      ]
     },
     "execution_count": 18,
     "metadata": {},
     "output_type": "execute_result"
    },
    {
     "data": {
      "image/png": "[encoded data removed]",
      "text/plain": [
       "<Figure size 432x288 with 1 Axes>"
      ]
     },
     "metadata": {
      "needs_background": "light"
     },
     "output_type": "display_data"
    }
   ],
   "source": [
    "ros = ROS(random_state=71)\n",
    "x_res, y_res = ros.fit_resample(x, y)\n",
    "plt.hist(y_res)"
   ]
  },
  {
   "cell_type": "code",
   "execution_count": 19,
   "metadata": {
    "colab": {},
    "colab_type": "code",
    "id": "2QZ-poEN9n3V"
   },
   "outputs": [],
   "source": [
    "x_res_df = pd.DataFrame(x_res)\n",
    "x_res_df.columns = x.columns"
   ]
  },
  {
   "cell_type": "code",
   "execution_count": 20,
   "metadata": {
    "colab": {},
    "colab_type": "code",
    "id": "wcHr4XwiA8xG"
   },
   "outputs": [],
   "source": [
    "x, y = x_res_df, y_res\n",
    "x_treino, x_teste, y_treino, y_teste = train_test_split(x, y, test_size=0.3)\n",
    "cv = ShuffleSplit(n_splits=100, test_size=0.3, random_state=0)\n",
    "resultados = MetricScores(y_teste)"
   ]
  },
  {
   "cell_type": "code",
   "execution_count": 21,
   "metadata": {
    "colab": {},
    "colab_type": "code",
    "id": "-HINUMaZ17BP"
   },
   "outputs": [],
   "source": [
    "seq = \"sequencial_candidato\""
   ]
  },
  {
   "cell_type": "markdown",
   "metadata": {
    "colab_type": "text",
    "id": "9HVOYegJgQRh"
   },
   "source": [
    "### Treinando a Regressão Logística"
   ]
  },
  {
   "cell_type": "markdown",
   "metadata": {
    "colab_type": "text",
    "id": "m0Tg9cMBwiSc"
   },
   "source": [
    "Para a regressão logística, definiremos alguns parâmetros para tunar. São eles:\n",
    "\n",
    "* A penalidade C, que dita a força da regularização\n",
    "* O número máximo de iterações"
   ]
  },
  {
   "cell_type": "code",
   "execution_count": 22,
   "metadata": {
    "colab": {},
    "colab_type": "code",
    "id": "V3VJh12hqzJE"
   },
   "outputs": [],
   "source": [
    "c = [0.1, 0.25, 0.35, 0.50, 0.75, 1, 3, 5, 10, 25]\n",
    "maxiter = [25, 50, 100, 150, 200, 300]\n",
    "iteracoes_logistica = [c, maxiter]"
   ]
  },
  {
   "cell_type": "markdown",
   "metadata": {
    "colab_type": "text",
    "id": "xxx7URkZxA56"
   },
   "source": [
    "Em seguida, tunamos o modelo com os parâmetros definidos acima"
   ]
  },
  {
   "cell_type": "code",
   "execution_count": 23,
   "metadata": {
    "colab": {},
    "colab_type": "code",
    "id": "ZTawTe1oqbYF"
   },
   "outputs": [
    {
     "name": "stderr",
     "output_type": "stream",
     "text": [
      "/anaconda2/lib/python2.7/site-packages/sklearn/linear_model/logistic.py:1232: UserWarning: 'n_jobs' > 1 does not have any effect when 'solver' is set to 'liblinear'. Got 'n_jobs' = -1.\n",
      "  \" = {}.\".format(self.n_jobs))\n"
     ]
    },
    {
     "name": "stdout",
     "output_type": "stream",
     "text": [
      "[LibLinear][LibLinear][LibLinear][LibLinear][LibLinear][LibLinear][LibLinear][LibLinear][LibLinear][LibLinear][LibLinear][LibLinear][LibLinear][LibLinear][LibLinear][LibLinear][LibLinear][LibLinear][LibLinear][LibLinear][LibLinear][LibLinear][LibLinear][LibLinear][LibLinear][LibLinear][LibLinear][LibLinear][LibLinear][LibLinear][LibLinear][LibLinear][LibLinear][LibLinear][LibLinear][LibLinear][LibLinear][LibLinear][LibLinear][LibLinear][LibLinear][LibLinear][LibLinear][LibLinear][LibLinear][LibLinear][LibLinear][LibLinear][LibLinear][LibLinear][LibLinear][LibLinear][LibLinear][LibLinear][LibLinear][LibLinear][LibLinear][LibLinear][LibLinear][LibLinear]"
     ]
    }
   ],
   "source": [
    "best_logistica = None\n",
    "for ci, m in itertools.product(*iteracoes_logistica):\n",
    "  logistica = LogReg(C = ci, max_iter = m, verbose=1, n_jobs = -1)\n",
    "  logistica.fit(x_treino.drop(seq, axis=1), y_treino)\n",
    "  pred = logistica.predict(x_teste.drop(seq, axis=1))\n",
    "  fscore = f1_score(y_teste, pred)\n",
    "  \n",
    "  if (best_logistica == None or best_logistica[1] < fscore):\n",
    "    best_logistica = [(ci, m), fscore, pred]"
   ]
  },
  {
   "cell_type": "markdown",
   "metadata": {
    "colab_type": "text",
    "id": "sJRpOAc0xICv"
   },
   "source": [
    "Mesmo já tendo o fscore do melhor modelo, adicionamos e calculamos as métricas deste modelo na tabela de resultados, que servirá para comparação futura e escolha do melhor modelo - que será usado na submissão."
   ]
  },
  {
   "cell_type": "code",
   "execution_count": 24,
   "metadata": {
    "colab": {
     "base_uri": "https://localhost:8080/",
     "height": 80
    },
    "colab_type": "code",
    "id": "gNa3kwBw_4M1",
    "outputId": "63f73eff-bc41-4a2b-eeda-57694ddaab4c"
   },
   "outputs": [
    {
     "data": {
      "text/html": [
       "<div>\n",
       "<style scoped>\n",
       "    .dataframe tbody tr th:only-of-type {\n",
       "        vertical-align: middle;\n",
       "    }\n",
       "\n",
       "    .dataframe tbody tr th {\n",
       "        vertical-align: top;\n",
       "    }\n",
       "\n",
       "    .dataframe thead th {\n",
       "        text-align: right;\n",
       "    }\n",
       "</style>\n",
       "<table border=\"1\" class=\"dataframe\">\n",
       "  <thead>\n",
       "    <tr style=\"text-align: right;\">\n",
       "      <th></th>\n",
       "      <th>Accuracy</th>\n",
       "      <th>Classifier</th>\n",
       "      <th>F-Score</th>\n",
       "      <th>Precision</th>\n",
       "      <th>Recall</th>\n",
       "    </tr>\n",
       "  </thead>\n",
       "  <tbody>\n",
       "    <tr>\n",
       "      <th>1</th>\n",
       "      <td>0.923951</td>\n",
       "      <td>Regressão Logística</td>\n",
       "      <td>0.926135</td>\n",
       "      <td>0.890094</td>\n",
       "      <td>0.965217</td>\n",
       "    </tr>\n",
       "  </tbody>\n",
       "</table>\n",
       "</div>"
      ],
      "text/plain": [
       "   Accuracy           Classifier   F-Score  Precision    Recall\n",
       "1  0.923951  Regressão Logística  0.926135   0.890094  0.965217"
      ]
     },
     "execution_count": 24,
     "metadata": {},
     "output_type": "execute_result"
    }
   ],
   "source": [
    "resultados.insert_prediction(\"Regressão Logística\", best_logistica[2])\n",
    "resultados.get_df().head()"
   ]
  },
  {
   "cell_type": "markdown",
   "metadata": {
    "colab_type": "text",
    "id": "EVe2Zi52jiU9"
   },
   "source": [
    "### Treinando Árvores de Decisão"
   ]
  },
  {
   "cell_type": "markdown",
   "metadata": {
    "colab_type": "text",
    "id": "9jxwIQIWeXCS"
   },
   "source": [
    "Para treinar as árvores, configuramos alguns parâmetros e selecionamos os que se desempenham melhor:\n",
    "\n",
    "* Número mínimo de elementos por folha, entre 1, 5, 10, 15, 20, 30, 50, 75, 100.\n",
    "* Profundidade máxima, entre 1, 5, 10, 15, 25, 30, 50 ou sem limite.\n",
    "* Número máximo de folhas, entre 50, 40, 30, 20, 10, 5 ou sem limite.\n",
    "* Número máximo de features, escolhido por sqrt, log2 ou sem limite máximo.\n",
    "* Número mínimo de elementos ao dividir um nó, entre 2, 5, 10, 15, 20, 25, 30."
   ]
  },
  {
   "cell_type": "code",
   "execution_count": 25,
   "metadata": {
    "colab": {},
    "colab_type": "code",
    "id": "mdbOMBeGeWrY"
   },
   "outputs": [],
   "source": [
    "# @hidden_cell\n",
    "min_elements_leaf = [1, 5, 10, 15, 20, 30, 50, 75, 100]\n",
    "min_split = [2, 5, 10, 15, 20, 25, 30]\n",
    "max_depth = [1, 5, 10, 15, 25, 30, 50, None]\n",
    "max_leafs = [50, 40, 30, 20, 10, 5, None]\n",
    "max_features = ['sqrt', 'log2', None]\n",
    "\n",
    "iteracao = [min_elements_leaf, max_depth, max_leafs, max_features, min_split]"
   ]
  },
  {
   "cell_type": "markdown",
   "metadata": {
    "colab_type": "text",
    "id": "UtDEEpw2iWGt"
   },
   "source": [
    "Em seguida, tendo definidos os possíveis valores dos hiper-parâmetros, podemos então treinar diferentes árvores com esses parâmetros e verificar qual o melhor entre eles:"
   ]
  },
  {
   "cell_type": "code",
   "execution_count": null,
   "metadata": {
    "colab": {},
    "colab_type": "code",
    "id": "U5dwIrZoHT8u"
   },
   "outputs": [],
   "source": [
    "best_tree = None\n",
    "for a, b, c, d, e in itertools.product(*iteracao):\n",
    "  tree = DTC(max_depth=b, min_samples_leaf=a, max_leaf_nodes=c, max_features=d, min_samples_split=e)\n",
    "  tree.fit(x_treino.drop(seq, axis=1), y_treino)\n",
    "  pred = tree.predict(x_teste.drop(seq, axis=1))\n",
    "  fscore = f1_score(y_teste, pred)\n",
    "  if (best_tree == None or fscore > best_tree[1]):\n",
    "    best_tree = [(a,b,c,d,e), fscore, pred]"
   ]
  },
  {
   "cell_type": "code",
   "execution_count": null,
   "metadata": {
    "colab": {
     "base_uri": "https://localhost:8080/",
     "height": 752
    },
    "colab_type": "code",
    "id": "dyUCOLlAmOlD",
    "outputId": "1293c22b-2b6b-43de-fcc8-2f1d6d875913"
   },
   "outputs": [],
   "source": [
    "# @hidden_cell\n",
    "estimator = DTC(\n",
    "    max_depth=best_tree[0][1],\n",
    "    min_samples_leaf=best_tree[0][0],\n",
    "    max_leaf_nodes=best_tree[0][2],\n",
    "    max_features=best_tree[0][3],\n",
    "    min_samples_split=best_tree[0][4]\n",
    ")\n",
    "title = 'Curva de Aprendizado da Decision Tree com parametros tunados'\n",
    "plot_learning_curve(estimator, title, x.drop(seq, axis=1), y, cv=cv, n_jobs=-1)\n",
    "\n",
    "estimator = DTC()\n",
    "title = 'Curva de Aprendizado da Decision Tree sem parametros tunados'\n",
    "plot_learning_curve(estimator, title, x.drop(seq, axis=1), y, cv=cv, n_jobs=-1)"
   ]
  },
  {
   "cell_type": "markdown",
   "metadata": {
    "colab_type": "text",
    "id": "QrJNeuN4ornY"
   },
   "source": [
    "Pelo gráfico acima, é possível perceber que sem parâmetros, a decision tree se mantém inalterada em termos de score de treino, mas aumenta pouco em relação ao cross-validation score. Já na decision tree com parâmetros, mesmo que o train score decresça, o cross-validation score aumenta significativamente, indicando melhora no treino. No geral, para a árvore treinada temos que:"
   ]
  },
  {
   "cell_type": "code",
   "execution_count": null,
   "metadata": {
    "colab": {},
    "colab_type": "code",
    "id": "Bx0xd8pFJJNr"
   },
   "outputs": [],
   "source": [
    "acc = accuracy_score(y_teste, best_tree[2], normalize = False)\n",
    "prec = precision_score(y_teste, best_tree[2])\n",
    "recall = recall_score(y_teste, best_tree[2])\n",
    "\n",
    "resultados.insert_prediction(\"Árvore de Decisão Tunada\", best_tree[2])\n",
    "\n",
    "arvore_simples = DTC()\n",
    "arvore_simples.fit(x_treino.drop(seq, axis=1), y_treino)\n",
    "pred_n = arvore_simples.predict(x_teste.drop(seq, axis=1))\n",
    "\n",
    "resultados.insert_prediction(\"Árvore de Decisão Não-Tunada\", pred_n)"
   ]
  },
  {
   "cell_type": "code",
   "execution_count": null,
   "metadata": {
    "colab": {
     "base_uri": "https://localhost:8080/",
     "height": 142
    },
    "colab_type": "code",
    "id": "xa8rTds0HEJV",
    "outputId": "50104fc9-6743-449d-e267-fb60caffcf5e"
   },
   "outputs": [],
   "source": [
    "resultados.get_df().head()"
   ]
  },
  {
   "cell_type": "code",
   "execution_count": null,
   "metadata": {
    "colab": {
     "base_uri": "https://localhost:8080/",
     "height": 119
    },
    "colab_type": "code",
    "id": "sRQdMhC_JQVq",
    "outputId": "cc139815-c954-46f3-93bb-bc68c9339ca8"
   },
   "outputs": [],
   "source": [
    "# @hidden_cell\n",
    "def filtra_none(valor):\n",
    "  if valor is None:\n",
    "    return \"Sem limite maximo\"\n",
    "  return str(valor)\n",
    "tree_params = [filtra_none(v) for v in best_tree[0]]\n",
    "\n",
    "print(\"Os parametros tunados que resultaram no melhor F-Score sao:\")\n",
    "print(\"Número minimo de elementos por folha: %s,\" % tree_params[0])\n",
    "print(\"Profundidade Maxima: %s,\" % tree_params[1])\n",
    "print(\"Maximo de folhas: %s,\" % tree_params[2])\n",
    "print(\"Maximo de features: %s,\" % tree_params[3])\n",
    "print(\"Manimo de elementos para divisao: %s.\" % tree_params[4])"
   ]
  },
  {
   "cell_type": "markdown",
   "metadata": {
    "colab_type": "text",
    "id": "5T2KHadT7vvP"
   },
   "source": [
    "Ainda na Árvore de decisão, é possível observarmos o confusion plot, tendo uma noção de quantos foram classificados como falsos positivos ou falsos negativos:"
   ]
  },
  {
   "cell_type": "code",
   "execution_count": null,
   "metadata": {
    "colab": {
     "base_uri": "https://localhost:8080/",
     "height": 401
    },
    "colab_type": "code",
    "id": "aunzX_ic73XA",
    "outputId": "d3c74bf2-3f12-462e-9a36-157ace45de99"
   },
   "outputs": [],
   "source": [
    "matriz_arv = confusion_matrix(y_teste, best_tree[2])\n",
    "np.set_printoptions(precision=2)\n",
    "plt.figure()\n",
    "plot_confusion_matrix(matriz_arv, classes=[0, 1],\n",
    "                      title='Matriz de Confusao da Decision Tree')"
   ]
  },
  {
   "cell_type": "markdown",
   "metadata": {
    "colab_type": "text",
    "id": "eGjVZec4jcUq"
   },
   "source": [
    "### Treinando o classificador KNN"
   ]
  },
  {
   "cell_type": "markdown",
   "metadata": {
    "colab_type": "text",
    "id": "uXpxUNqNjtrR"
   },
   "source": [
    "Inicialmente, definimos os possíveis valores para os hiper-parâmetros do KNN:\n",
    "\n",
    "* Número de Vizinhos no conjunto 1, 2, 5, 7, 10, 15, 20, 30.\n",
    "* Tipo de distância: minkowski ou euclidiana."
   ]
  },
  {
   "cell_type": "code",
   "execution_count": null,
   "metadata": {
    "colab": {},
    "colab_type": "code",
    "id": "NYcN0tCOjrpP"
   },
   "outputs": [],
   "source": [
    "# @hidden_cell\n",
    "n_neighbors = [1, 2, 5, 7, 10, 15, 20, 30]\n",
    "distance = [1, 2]\n",
    "\n",
    "iteracao_knn = [n_neighbors, distance]"
   ]
  },
  {
   "cell_type": "markdown",
   "metadata": {
    "colab_type": "text",
    "id": "RDr5a-LZkCaV"
   },
   "source": [
    "Tendo os hiper-parâmetros definidos, identificamos o melhor deles:"
   ]
  },
  {
   "cell_type": "code",
   "execution_count": null,
   "metadata": {
    "colab": {},
    "colab_type": "code",
    "id": "DvfdjfdukJSx"
   },
   "outputs": [],
   "source": [
    "best_knn = None\n",
    "for a, b in itertools.product(*iteracao_knn):\n",
    "  knn = KNN(n_neighbors = a, p = b)\n",
    "  knn.fit(x_treino.drop(seq, axis=1), y_treino)\n",
    "  pred = knn.predict(x_teste.drop(seq, axis=1))\n",
    "  fscore = f1_score(y_teste, pred)\n",
    "  \n",
    "  if (best_knn == None or best_knn[1] < fscore):\n",
    "    best_knn = [(a, b), fscore, pred]"
   ]
  },
  {
   "cell_type": "code",
   "execution_count": null,
   "metadata": {
    "colab": {
     "base_uri": "https://localhost:8080/",
     "height": 752
    },
    "colab_type": "code",
    "id": "sqQN3DiQqb4Y",
    "outputId": "e16b0d3d-65b2-4ffa-de28-59d29ea3085f"
   },
   "outputs": [],
   "source": [
    "# @hidden_cell\n",
    "estimator = KNN(n_neighbors=best_knn[0][0], p=best_knn[0][1])\n",
    "title = 'Curva de Aprendizado do KNN com parametros tunados'\n",
    "plot_learning_curve(estimator, title, x.drop(seq, axis=1), y, cv=cv, n_jobs=-1)\n",
    "\n",
    "estimator = KNN()\n",
    "title = 'Curva de Aprendizado do KNN sem parametros tunados'\n",
    "plot_learning_curve(estimator, title, x.drop(seq, axis=1), y, cv=cv, n_jobs=-1)"
   ]
  },
  {
   "cell_type": "code",
   "execution_count": null,
   "metadata": {
    "colab": {
     "base_uri": "https://localhost:8080/",
     "height": 401
    },
    "colab_type": "code",
    "id": "Jg_UvwejIy9A",
    "outputId": "a9ed7580-6e2e-4825-dea6-b4b20817ec7e"
   },
   "outputs": [],
   "source": [
    "matriz_knn = confusion_matrix(y_teste, best_knn[2])\n",
    "np.set_printoptions(precision=2)\n",
    "plt.figure()\n",
    "plot_confusion_matrix(matriz_arv, classes=[0, 1],\n",
    "                      title='Matriz de Confusao do KNN')"
   ]
  },
  {
   "cell_type": "markdown",
   "metadata": {
    "colab_type": "text",
    "id": "irrF-1OLr5Gh"
   },
   "source": [
    "Diferentemente do que aconteceu nas Árvores de decisão, no KNN o training score se mantém estável ao observar o modelo treinado com os parâmetros tunados. Entretanto, apesar da escala, tanto o KNN treinado quanto o não treinado mantém a mesma faixa de resultados para o cross-validation score, o que demonstra resultados não tão satisfatórios no treino. Ainda assim, podemos ver os resultados do KNN:"
   ]
  },
  {
   "cell_type": "code",
   "execution_count": null,
   "metadata": {
    "colab": {},
    "colab_type": "code",
    "id": "rNcszPj3lgK1"
   },
   "outputs": [],
   "source": [
    "resultados.insert_prediction(\"KNN Tunado\", best_knn[2])\n",
    "\n",
    "knn_n = KNN()\n",
    "knn_n.fit(x_treino.drop(seq, axis=1), y_treino)\n",
    "y_knn = knn_n.predict(x_teste.drop(seq, axis=1))\n",
    "\n",
    "resultados.insert_prediction(\"KNN não Tunado\", y_knn)"
   ]
  },
  {
   "cell_type": "code",
   "execution_count": null,
   "metadata": {
    "colab": {
     "base_uri": "https://localhost:8080/",
     "height": 34
    },
    "colab_type": "code",
    "id": "xSGC-kLoJ1DJ",
    "outputId": "6ab560c6-1ff5-40db-c1bc-83cc0aeb277b"
   },
   "outputs": [],
   "source": [
    "# @hidden_cell\n",
    "print(\"A melhor distancia foi de %d. O p escolhido foi: %d.\" % best_knn[0])"
   ]
  },
  {
   "cell_type": "code",
   "execution_count": null,
   "metadata": {
    "colab": {
     "base_uri": "https://localhost:8080/",
     "height": 266
    },
    "colab_type": "code",
    "id": "rVaUIHvOzTF-",
    "outputId": "8fb0ffdc-e506-4b4b-bb49-62ffae958ca2"
   },
   "outputs": [],
   "source": [
    "resultados.get_df()"
   ]
  },
  {
   "cell_type": "markdown",
   "metadata": {
    "colab_type": "text",
    "id": "5TCWRFuJNa12"
   },
   "source": [
    "### Treinando o AdaBoost"
   ]
  },
  {
   "cell_type": "markdown",
   "metadata": {
    "colab_type": "text",
    "id": "L_emyKnVXQ-n"
   },
   "source": [
    "Para treinar o AdaBoost, escolheremos um modelo de classificação fraco: uma árvore de decisão com áltura máxima sendo 1. Isso força a simplicidade do modelo e ajuda o algoritmo de boosting por ser um classificador fraco. Além disso, se define o hiper-parâmetro T, que será o número máximo de estimadores, através do tuning."
   ]
  },
  {
   "cell_type": "code",
   "execution_count": null,
   "metadata": {
    "colab": {},
    "colab_type": "code",
    "id": "etv7d7KkWrxW"
   },
   "outputs": [],
   "source": [
    "simple = DTC(max_depth=1)\n",
    "Ts = [1, 5, 15, 30, 50, 75, 100, 150, 200, 300]\n",
    "algorithms = ['SAMME', 'SAMME.R']\n",
    "iteracao_ada = [Ts, algorithms]"
   ]
  },
  {
   "cell_type": "code",
   "execution_count": null,
   "metadata": {
    "colab": {},
    "colab_type": "code",
    "id": "2ka8Oa3jlkZK"
   },
   "outputs": [],
   "source": [
    "best_ada = None\n",
    "for t, alg in itertools.product(*iteracao_ada):\n",
    "  ada = AdaBoostClassifier(simple, n_estimators=t, algorithm=alg)\n",
    "  ada.fit(x_treino.drop(seq, axis=1), y_treino)\n",
    "  pred = ada.predict(x_teste.drop(seq, axis=1))\n",
    "  fscore = f1_score(y_teste, pred)\n",
    "  \n",
    "  if (best_ada == None or best_ada[1] < fscore):\n",
    "    best_ada = [(t, alg), fscore, pred]"
   ]
  },
  {
   "cell_type": "code",
   "execution_count": null,
   "metadata": {
    "colab": {
     "base_uri": "https://localhost:8080/",
     "height": 752
    },
    "colab_type": "code",
    "id": "22ndiHPjYrpE",
    "outputId": "b7ca3f03-8a07-40ad-fb61-071531e02baa"
   },
   "outputs": [],
   "source": [
    "# @hidden_cell\n",
    "estimator = AdaBoostClassifier(simple,\n",
    "                               n_estimators=best_ada[0][0],\n",
    "                               algorithm=best_ada[0][1])\n",
    "title = 'Curva de Aprendizado do AdaBoost com parametros tunados'\n",
    "plot_learning_curve(estimator, title, x.drop(seq, axis=1), y, cv=cv, n_jobs=-1)\n",
    "\n",
    "estimator = AdaBoostClassifier(simple)\n",
    "title = 'Curva de Aprendizado do AdaBoost sem parametros tunados'\n",
    "plot_learning_curve(estimator, title, x.drop(seq, axis=1), y, cv=cv, n_jobs=-1)"
   ]
  },
  {
   "cell_type": "code",
   "execution_count": null,
   "metadata": {
    "colab": {},
    "colab_type": "code",
    "id": "lj1SZkYMgVoQ"
   },
   "outputs": [],
   "source": [
    "acc_ada = accuracy_score(y_teste, best_ada[2], normalize = False)\n",
    "prec_ada = precision_score(y_teste, best_ada[2])\n",
    "recall_ada = recall_score(y_teste, best_ada[2])\n",
    "\n",
    "resultados.insert_prediction(\"AdaBoost Tunado\", best_ada[2])\n",
    "\n",
    "ada_n = AdaBoostClassifier(simple)\n",
    "ada_n.fit(x_treino.drop(seq, axis=1), y_treino)\n",
    "y_ada = ada_n.predict(x_teste.drop(seq, axis=1))\n",
    "\n",
    "resultados.insert_prediction(\"AdaBoost nao Tunado\", y_ada)"
   ]
  },
  {
   "cell_type": "code",
   "execution_count": null,
   "metadata": {
    "colab": {
     "base_uri": "https://localhost:8080/",
     "height": 34
    },
    "colab_type": "code",
    "id": "PmJ3H8mMp7YM",
    "outputId": "6f059bfe-c098-4e8c-ec3f-e8a0c01aa7e2"
   },
   "outputs": [],
   "source": [
    "# @hidden_cell\n",
    "print(\"O melhor numero de parametros foi de %d. O algoritmo escolhido foi: %s.\" % best_ada[0])"
   ]
  },
  {
   "cell_type": "code",
   "execution_count": null,
   "metadata": {
    "colab": {
     "base_uri": "https://localhost:8080/",
     "height": 266
    },
    "colab_type": "code",
    "id": "t2oyFRxJRvnB",
    "outputId": "61e5e7ff-6ab8-4490-ff88-e681157665a7"
   },
   "outputs": [],
   "source": [
    "resultados.get_df()"
   ]
  },
  {
   "cell_type": "markdown",
   "metadata": {
    "colab_type": "text",
    "id": "w6qB6NGQW2dE"
   },
   "source": [
    "## Stacking"
   ]
  },
  {
   "cell_type": "markdown",
   "metadata": {
    "colab_type": "text",
    "id": "lifVGk0YbHBK"
   },
   "source": [
    "Para implementar o stacking, inicialmente instanciaremos classificadores treinados com todo o conjunto de dados. Em seguida, prediremos o conjunto de testes e faremos um dataframe com as predições de cada um dos classificadores, e o usaremos para obter a predição do conjunto de testes"
   ]
  },
  {
   "cell_type": "code",
   "execution_count": null,
   "metadata": {
    "colab": {},
    "colab_type": "code",
    "id": "ddTiOJhHW4pG"
   },
   "outputs": [],
   "source": [
    "stack_df = pd.DataFrame()\n",
    "stack_df['Decision Tree'] = best_tree[2]\n",
    "stack_df['KNN'] = best_knn[2]\n",
    "stack_df['AdaBoost'] = best_ada[2]\n",
    "stack_df['Logistic Regression'] = best_logistica[2]"
   ]
  },
  {
   "cell_type": "code",
   "execution_count": null,
   "metadata": {
    "colab": {
     "base_uri": "https://localhost:8080/",
     "height": 71
    },
    "colab_type": "code",
    "id": "ThcubkBpeFYr",
    "outputId": "2f65f7eb-b04b-47c2-e27d-1984d94d0f65"
   },
   "outputs": [],
   "source": [
    "stack_logistic = LogReg(C = best_logistica[0][0], max_iter = best_logistica[0][1], n_jobs = -1)\n",
    "stack_logistic.fit(x_treino.drop(seq, axis=1), y_treino)\n",
    "logistic_pred = stack_logistic.predict(x.drop(seq, axis=1))"
   ]
  },
  {
   "cell_type": "code",
   "execution_count": null,
   "metadata": {
    "colab": {},
    "colab_type": "code",
    "id": "cr-j_uH13F4K"
   },
   "outputs": [],
   "source": [
    "stack_tree = DTC(\n",
    "    max_depth=best_tree[0][1],\n",
    "    min_samples_leaf=best_tree[0][0],\n",
    "    max_leaf_nodes=best_tree[0][2],\n",
    "    max_features=best_tree[0][3],\n",
    "    min_samples_split=best_tree[0][4]\n",
    ")\n",
    "stack_tree.fit(x_treino.drop(seq, axis=1), y_treino)\n",
    "tree_pred = stack_tree.predict(x.drop(seq, axis=1))"
   ]
  },
  {
   "cell_type": "code",
   "execution_count": null,
   "metadata": {
    "colab": {},
    "colab_type": "code",
    "id": "_cm2sb2ed20n"
   },
   "outputs": [],
   "source": [
    "stack_knn = KNN(n_neighbors=best_knn[0][0], p=best_knn[0][1])\n",
    "stack_knn.fit(x_treino.drop(seq, axis=1), y_treino)\n",
    "knn_pred = stack_knn.predict(x.drop(seq, axis=1))"
   ]
  },
  {
   "cell_type": "code",
   "execution_count": null,
   "metadata": {
    "colab": {},
    "colab_type": "code",
    "id": "BqD2yVkdeDar"
   },
   "outputs": [],
   "source": [
    "stack_ada = AdaBoostClassifier(simple,\n",
    "                               n_estimators=best_ada[0][0],\n",
    "                               algorithm=best_ada[0][1])\n",
    "stack_ada.fit(x_treino.drop(seq, axis=1), y_treino)\n",
    "ada_pred = stack_ada.predict(x.drop(seq, axis=1))"
   ]
  },
  {
   "cell_type": "code",
   "execution_count": null,
   "metadata": {
    "colab": {},
    "colab_type": "code",
    "id": "EEJuFPhHe8gw"
   },
   "outputs": [],
   "source": [
    "xstack = pd.DataFrame()\n",
    "xstack['Decision Tree'] = tree_pred\n",
    "xstack['KNN'] = knn_pred\n",
    "xstack['AdaBoost'] = ada_pred\n",
    "xstack['Logistic Regression'] = logistic_pred"
   ]
  },
  {
   "cell_type": "code",
   "execution_count": null,
   "metadata": {
    "colab": {},
    "colab_type": "code",
    "id": "GtkSZ9eZ3SM4"
   },
   "outputs": [],
   "source": [
    "stacking = DTC()\n",
    "stacking.fit(stack_df, y_teste)\n",
    "y_stck = stacking.predict(xstack)"
   ]
  },
  {
   "cell_type": "code",
   "execution_count": null,
   "metadata": {
    "colab": {
     "base_uri": "https://localhost:8080/",
     "height": 80
    },
    "colab_type": "code",
    "id": "1PgX4iz4kGU1",
    "outputId": "d86974e5-3280-49ff-db4e-7aab9d92b20a"
   },
   "outputs": [],
   "source": [
    "resultado_stack = MetricScores(y)\n",
    "resultado_stack.insert_prediction(\"Stack\", y_stck)\n",
    "resultado_stack.get_df().head()"
   ]
  },
  {
   "cell_type": "markdown",
   "metadata": {
    "colab_type": "text",
    "id": "PSpEeONigJRY"
   },
   "source": [
    "Por fim, aplicaremos os classificadores ao conjunto de testes, e submeteremos no Kaggle"
   ]
  },
  {
   "cell_type": "code",
   "execution_count": null,
   "metadata": {
    "colab": {},
    "colab_type": "code",
    "id": "9zSxyCy_gOl9"
   },
   "outputs": [],
   "source": [
    "teste = teste.drop('situacao', axis=1)\n",
    "tree_test = stack_tree.predict(teste.drop(seq, axis=1))\n",
    "ada_test = stack_ada.predict(teste.drop(seq, axis=1))\n",
    "knn_test = stack_knn.predict(teste.drop(seq, axis=1))\n",
    "logistic_test = stack_logistic.predict(teste.drop(seq, axis=1))"
   ]
  },
  {
   "cell_type": "code",
   "execution_count": null,
   "metadata": {
    "colab": {},
    "colab_type": "code",
    "id": "mU88qVchkzAN"
   },
   "outputs": [],
   "source": [
    "teste_stack = pd.DataFrame()\n",
    "teste_stack['Decision Tree'] = tree_test\n",
    "teste_stack['KNN'] = knn_test\n",
    "teste_stack['AdaBoost'] = ada_test\n",
    "teste_stack['Logistic Regression'] = logistic_test"
   ]
  },
  {
   "cell_type": "code",
   "execution_count": null,
   "metadata": {
    "colab": {},
    "colab_type": "code",
    "id": "FUBQEdWtgn2J"
   },
   "outputs": [],
   "source": [
    "final = stacking.predict(teste_stack)"
   ]
  },
  {
   "cell_type": "code",
   "execution_count": null,
   "metadata": {
    "colab": {},
    "colab_type": "code",
    "id": "dCXUfF0xh1cj"
   },
   "outputs": [],
   "source": [
    "def save_df(dataframe, valores_preditos):    \n",
    "  output = pd.DataFrame()\n",
    "  mapa = { 0: 'nao_eleito', 1: 'eleito'}\n",
    "  output['ID'] = teste['sequencial_candidato']\n",
    "  output['Predicted'] = [mapa[v] for v in valores_preditos]\n",
    "  output.to_csv('submissao.csv', index=False)\n",
    "  files.download('submissao.csv')"
   ]
  },
  {
   "cell_type": "code",
   "execution_count": null,
   "metadata": {
    "colab": {
     "base_uri": "https://localhost:8080/",
     "height": 34
    },
    "colab_type": "code",
    "id": "gpbNzt8-h2Sj",
    "outputId": "426dff80-3fdd-48a4-b895-b5516f1ce8a3"
   },
   "outputs": [],
   "source": [
    "save_df(teste, final)"
   ]
  },
  {
   "cell_type": "code",
   "execution_count": null,
   "metadata": {
    "colab": {},
    "colab_type": "code",
    "id": "t44PMQhLypLW"
   },
   "outputs": [],
   "source": []
  }
 ],
 "metadata": {
  "accelerator": "GPU",
  "colab": {
   "collapsed_sections": [],
   "name": "Lab4.ipynb",
   "provenance": [],
   "version": "0.3.2"
  },
  "kernelspec": {
   "display_name": "Python 2",
   "language": "python",
   "name": "python2"
  },
  "language_info": {
   "codemirror_mode": {
    "name": "ipython",
    "version": 2
   },
   "file_extension": ".py",
   "mimetype": "text/x-python",
   "name": "python",
   "nbconvert_exporter": "python",
   "pygments_lexer": "ipython2",
   "version": "2.7.15"
  }
 },
 "nbformat": 4,
 "nbformat_minor": 1
}
