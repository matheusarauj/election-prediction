{
 "cells": [
  {
   "cell_type": "code",
   "execution_count": 1,
   "metadata": {},
   "outputs": [],
   "source": [
    "import pandas as pd\n",
    "import numpy as np\n",
    "from sklearn.model_selection import train_test_split as tts\n",
    "from sklearn.linear_model import Ridge, Lasso"
   ]
  },
  {
   "cell_type": "code",
   "execution_count": 2,
   "metadata": {},
   "outputs": [],
   "source": [
    "df = pd.read_csv('../datasets/train_factors.csv', index_col=0)"
   ]
  },
  {
   "cell_type": "code",
   "execution_count": 3,
   "metadata": {},
   "outputs": [],
   "source": [
    "y = df['votos']\n",
    "x = df.drop(['votos'], axis=1)"
   ]
  },
  {
   "cell_type": "code",
   "execution_count": 4,
   "metadata": {
    "scrolled": true
   },
   "outputs": [],
   "source": [
    "## Considerando a validação cruzada sendo o metodo hold out\n",
    "## Divide-se as variaveis de treino em 70/30 para definir um modelo\n",
    "x_train, x_test, y_train, y_test = tts(x, y, test_size=0.3)"
   ]
  },
  {
   "cell_type": "code",
   "execution_count": 5,
   "metadata": {},
   "outputs": [],
   "source": [
    "def insert_in_order(array, new_score):\n",
    "    array.append(new_score)\n",
    "    i = len(array) - 1\n",
    "    while (i > 0):\n",
    "        if (array[i][1] > array[i-1][1]):\n",
    "            array[i], array[i-1] = array[i-1], array[i]\n",
    "            i -= 1\n",
    "        else:\n",
    "            break"
   ]
  },
  {
   "cell_type": "code",
   "execution_count": 6,
   "metadata": {},
   "outputs": [
    {
     "name": "stderr",
     "output_type": "stream",
     "text": [
      "/anaconda2/lib/python2.7/site-packages/sklearn/linear_model/ridge.py:112: LinAlgWarning: scipy.linalg.solve\n",
      "Ill-conditioned matrix detected. Result is not guaranteed to be accurate.\n",
      "Reciprocal condition number1.920904e-26\n",
      "  overwrite_a=True).T\n",
      "/anaconda2/lib/python2.7/site-packages/sklearn/linear_model/ridge.py:112: LinAlgWarning: scipy.linalg.solve\n",
      "Ill-conditioned matrix detected. Result is not guaranteed to be accurate.\n",
      "Reciprocal condition number1.724894e-26\n",
      "  overwrite_a=True).T\n",
      "/anaconda2/lib/python2.7/site-packages/sklearn/linear_model/ridge.py:112: LinAlgWarning: scipy.linalg.solve\n",
      "Ill-conditioned matrix detected. Result is not guaranteed to be accurate.\n",
      "Reciprocal condition number1.528883e-26\n",
      "  overwrite_a=True).T\n",
      "/anaconda2/lib/python2.7/site-packages/sklearn/linear_model/ridge.py:112: LinAlgWarning: scipy.linalg.solve\n",
      "Ill-conditioned matrix detected. Result is not guaranteed to be accurate.\n",
      "Reciprocal condition number1.332872e-26\n",
      "  overwrite_a=True).T\n",
      "/anaconda2/lib/python2.7/site-packages/sklearn/linear_model/ridge.py:112: LinAlgWarning: scipy.linalg.solve\n",
      "Ill-conditioned matrix detected. Result is not guaranteed to be accurate.\n",
      "Reciprocal condition number1.136862e-26\n",
      "  overwrite_a=True).T\n",
      "/anaconda2/lib/python2.7/site-packages/sklearn/linear_model/ridge.py:112: LinAlgWarning: scipy.linalg.solve\n",
      "Ill-conditioned matrix detected. Result is not guaranteed to be accurate.\n",
      "Reciprocal condition number9.408511e-27\n",
      "  overwrite_a=True).T\n",
      "/anaconda2/lib/python2.7/site-packages/sklearn/linear_model/ridge.py:112: LinAlgWarning: scipy.linalg.solve\n",
      "Ill-conditioned matrix detected. Result is not guaranteed to be accurate.\n",
      "Reciprocal condition number7.448405e-27\n",
      "  overwrite_a=True).T\n",
      "/anaconda2/lib/python2.7/site-packages/sklearn/linear_model/ridge.py:112: LinAlgWarning: scipy.linalg.solve\n",
      "Ill-conditioned matrix detected. Result is not guaranteed to be accurate.\n",
      "Reciprocal condition number5.488298e-27\n",
      "  overwrite_a=True).T\n",
      "/anaconda2/lib/python2.7/site-packages/sklearn/linear_model/ridge.py:112: LinAlgWarning: scipy.linalg.solve\n",
      "Ill-conditioned matrix detected. Result is not guaranteed to be accurate.\n",
      "Reciprocal condition number3.528192e-27\n",
      "  overwrite_a=True).T\n",
      "/anaconda2/lib/python2.7/site-packages/sklearn/linear_model/ridge.py:112: LinAlgWarning: scipy.linalg.solve\n",
      "Ill-conditioned matrix detected. Result is not guaranteed to be accurate.\n",
      "Reciprocal condition number1.568085e-27\n",
      "  overwrite_a=True).T\n"
     ]
    }
   ],
   "source": [
    "## Treina o modelo ridge com 10 diferentes lambdas\n",
    "lambdas = [x/100.0 for x in xrange(98, 7, -10)]\n",
    "ridge_scores = []\n",
    "\n",
    "for l in lambdas:\n",
    "    ridge = Ridge(alpha = l)\n",
    "    ridge.fit(x_train, y_train)\n",
    "    scr = ridge.score(x_test, y_test)\n",
    "    insert_in_order(ridge_scores, (ridge, scr))\n",
    "    \n",
    "best_ridge = ridge_scores[0]"
   ]
  },
  {
   "cell_type": "code",
   "execution_count": 7,
   "metadata": {},
   "outputs": [
    {
     "name": "stderr",
     "output_type": "stream",
     "text": [
      "/anaconda2/lib/python2.7/site-packages/sklearn/linear_model/coordinate_descent.py:491: ConvergenceWarning: Objective did not converge. You might want to increase the number of iterations. Fitting data with very small alpha may cause precision problems.\n",
      "  ConvergenceWarning)\n"
     ]
    }
   ],
   "source": [
    "## Treina no modelo lasso com 10 diferentes lambdas\n",
    "lambdas = [x/100.0 for x in xrange(98, 7, -10)]\n",
    "lasso_scores = []\n",
    "\n",
    "for l in lambdas:\n",
    "    lasso = Lasso(alpha = l)\n",
    "    lasso.fit(x_train, y_train)\n",
    "    scr = lasso.score(x_test, y_test)\n",
    "    insert_in_order(lasso_scores, (lasso, scr))\n",
    "    \n",
    "best_lasso = lasso_scores[0]"
   ]
  },
  {
   "cell_type": "code",
   "execution_count": 8,
   "metadata": {},
   "outputs": [
    {
     "name": "stdout",
     "output_type": "stream",
     "text": [
      "(Ridge(alpha=0.98, copy_X=True, fit_intercept=True, max_iter=None,\n",
      "   normalize=False, random_state=None, solver='auto', tol=0.001), 0.5072272092163941)\n",
      "(Lasso(alpha=0.98, copy_X=True, fit_intercept=True, max_iter=1000,\n",
      "   normalize=False, positive=False, precompute=False, random_state=None,\n",
      "   selection='cyclic', tol=0.0001, warm_start=False), 0.49990523431860634)\n"
     ]
    }
   ],
   "source": [
    "print best_ridge\n",
    "print best_lasso"
   ]
  },
  {
   "cell_type": "code",
   "execution_count": null,
   "metadata": {},
   "outputs": [],
   "source": []
  }
 ],
 "metadata": {
  "kernelspec": {
   "display_name": "Python 2",
   "language": "python",
   "name": "python2"
  },
  "language_info": {
   "codemirror_mode": {
    "name": "ipython",
    "version": 2
   },
   "file_extension": ".py",
   "mimetype": "text/x-python",
   "name": "python",
   "nbconvert_exporter": "python",
   "pygments_lexer": "ipython2",
   "version": "2.7.15"
  }
 },
 "nbformat": 4,
 "nbformat_minor": 2
}
